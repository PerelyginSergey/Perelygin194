{
 "cells": [
  {
   "cell_type": "code",
   "execution_count": null,
   "metadata": {},
   "outputs": [],
   "source": [
    "# не сделано 7 номеров на 2 звезды.  вместо них сделаны 6 номеров на 3 звезды."
   ]
  },
  {
   "cell_type": "code",
   "execution_count": 5,
   "metadata": {},
   "outputs": [],
   "source": [
    "import numpy as np"
   ]
  },
  {
   "cell_type": "code",
   "execution_count": 7,
   "metadata": {},
   "outputs": [
    {
     "name": "stdout",
     "output_type": "stream",
     "text": [
      "['2016-07-01' '2016-07-02' '2016-07-03' '2016-07-04' '2016-07-05'\n",
      " '2016-07-06' '2016-07-07' '2016-07-08' '2016-07-09' '2016-07-10'\n",
      " '2016-07-11' '2016-07-12' '2016-07-13' '2016-07-14' '2016-07-15'\n",
      " '2016-07-16' '2016-07-17' '2016-07-18' '2016-07-19' '2016-07-20'\n",
      " '2016-07-21' '2016-07-22' '2016-07-23' '2016-07-24' '2016-07-25'\n",
      " '2016-07-26' '2016-07-27' '2016-07-28' '2016-07-29' '2016-07-30'\n",
      " '2016-07-31']\n"
     ]
    }
   ],
   "source": [
    "#34. How to get all the dates corresponding to the month of July 2016?\n",
    "\n",
    "dates = np.arange('2016-07', '2016-08', dtype='datetime64[D]')\n",
    "\n",
    "print(dates)"
   ]
  },
  {
   "cell_type": "code",
   "execution_count": 3,
   "metadata": {},
   "outputs": [
    {
     "name": "stdout",
     "output_type": "stream",
     "text": [
      "[-1.5 -1.5 -1.5]\n"
     ]
    }
   ],
   "source": [
    "#35. How to compute ((A+B)*(-A/2)) in place (without copy)?\n",
    "\n",
    "A = np.ones(3)*1\n",
    "B = np.ones(3)*2\n",
    "\n",
    "\n",
    "\n",
    "np.add(A,B,out=B)\n",
    "np.divide(A,2,out=A)\n",
    "np.negative(A,out=A)\n",
    "\n",
    "print(np.multiply(A,B,out=A))"
   ]
  },
  {
   "cell_type": "code",
   "execution_count": 17,
   "metadata": {},
   "outputs": [
    {
     "name": "stdout",
     "output_type": "stream",
     "text": [
      "[77.97794951 60.03706154 10.88192428 20.21928453 28.49322479 75.87671758\n",
      " 41.82260096 50.07856236 40.35662003 84.65300162]\n",
      "[77. 60. 10. 20. 28. 75. 41. 50. 40. 84.]\n",
      "[77. 60. 10. 20. 28. 75. 41. 50. 40. 84.]\n",
      "[77. 60. 10. 20. 28. 75. 41. 50. 40. 84.]\n",
      "[77 60 10 20 28 75 41 50 40 84]\n",
      "[77. 60. 10. 20. 28. 75. 41. 50. 40. 84.]\n"
     ]
    }
   ],
   "source": [
    "#36. Extract the integer part of a random array of positive numbers using 4 different methods\n",
    "D  =   np.random.uniform(4,100,10)\n",
    "print(D)\n",
    "\n",
    "print (np.floor(D))\n",
    "\n",
    "print (np.ceil(D)-1)\n",
    "print (D - D%1)\n",
    "print (np.trunc(D))"
   ]
  },
  {
   "cell_type": "code",
   "execution_count": 23,
   "metadata": {},
   "outputs": [
    {
     "name": "stdout",
     "output_type": "stream",
     "text": [
      "[[0. 1. 2. 3. 4.]\n",
      " [0. 1. 2. 3. 4.]\n",
      " [0. 1. 2. 3. 4.]\n",
      " [0. 1. 2. 3. 4.]\n",
      " [0. 1. 2. 3. 4.]]\n"
     ]
    }
   ],
   "source": [
    "#37. Create a 5x5 matrix with row values ranging from 0 to 4\n",
    "V = np.zeros((5,5))\n",
    "\n",
    "V += np.arange(5)\n",
    "\n",
    "print(V)\n"
   ]
  },
  {
   "cell_type": "code",
   "execution_count": 27,
   "metadata": {},
   "outputs": [
    {
     "name": "stdout",
     "output_type": "stream",
     "text": [
      "[1 2 3 4 5 6 7 8 9]\n"
     ]
    }
   ],
   "source": [
    "#38. Consider a generator function that generates 10 integers and use it to build an array\n",
    "def generator():\n",
    "    for i in range(1,10):\n",
    "        yield i\n",
    "\n",
    "V = np.fromiter(generator(),dtype=int)\n",
    "print(V)"
   ]
  },
  {
   "cell_type": "code",
   "execution_count": 37,
   "metadata": {},
   "outputs": [
    {
     "name": "stdout",
     "output_type": "stream",
     "text": [
      "[0.09090909 0.18181818 0.27272727 0.36363636 0.45454545 0.54545455\n",
      " 0.63636364 0.72727273 0.81818182 0.90909091]\n"
     ]
    }
   ],
   "source": [
    "#39. Create a vector of size 10 with values ranging from 0 to 1, both excluded\n",
    "V = np.linspace(0, 1, num = 12)[1:-1]\n",
    "\n",
    "print(V)"
   ]
  },
  {
   "cell_type": "code",
   "execution_count": 40,
   "metadata": {},
   "outputs": [
    {
     "name": "stdout",
     "output_type": "stream",
     "text": [
      "[0.00644825 0.00972662 0.06625594 0.17676362 0.35818159 0.38695335\n",
      " 0.7039174  0.7412578  0.87305759 0.99349749]\n"
     ]
    }
   ],
   "source": [
    "#40. Create a random vector of size 10 and sort it \n",
    "v = np.random.random(10)\n",
    "v.sort()\n",
    "\n",
    "print(v)"
   ]
  },
  {
   "cell_type": "code",
   "execution_count": 46,
   "metadata": {},
   "outputs": [
    {
     "name": "stdout",
     "output_type": "stream",
     "text": [
      "4.391851158176586\n"
     ]
    }
   ],
   "source": [
    "#41. How to sum a small array faster than np.sum?\n",
    "v = np.random.random(10)\n",
    "\n",
    "print(np.add.reduce(v))"
   ]
  },
  {
   "cell_type": "code",
   "execution_count": 61,
   "metadata": {},
   "outputs": [
    {
     "name": "stdout",
     "output_type": "stream",
     "text": [
      "[2 2 0 0 0 3 1 0 2 2]\n",
      "[2 3 2 1 1 3 1 4 4 3]\n",
      "False\n"
     ]
    }
   ],
   "source": [
    "#42. Consider two random array A and B, check if they are equal\n",
    "A = np.random.randint(0,5,10)\n",
    "B = np.random.randint(0,5,10)\n",
    "print(A)\n",
    "print(B)\n",
    "\n",
    "\n",
    "print(np.array_equal (A, B))"
   ]
  },
  {
   "cell_type": "code",
   "execution_count": 169,
   "metadata": {},
   "outputs": [
    {
     "name": "stdout",
     "output_type": "stream",
     "text": [
      "[1 3 2 4 4 3 1 0 1 2]\n"
     ]
    },
    {
     "ename": "ValueError",
     "evalue": "assignment destination is read-only",
     "output_type": "error",
     "traceback": [
      "\u001b[0;31m---------------------------------------------------------------------------\u001b[0m",
      "\u001b[0;31mValueError\u001b[0m                                Traceback (most recent call last)",
      "\u001b[0;32m<ipython-input-169-3af02cb5943a>\u001b[0m in \u001b[0;36m<module>\u001b[0;34m\u001b[0m\n\u001b[1;32m      4\u001b[0m \u001b[0mA\u001b[0m\u001b[0;34m.\u001b[0m\u001b[0mflags\u001b[0m\u001b[0;34m.\u001b[0m\u001b[0mwriteable\u001b[0m \u001b[0;34m=\u001b[0m \u001b[0;32mFalse\u001b[0m\u001b[0;34m\u001b[0m\u001b[0;34m\u001b[0m\u001b[0m\n\u001b[1;32m      5\u001b[0m \u001b[0mprint\u001b[0m\u001b[0;34m(\u001b[0m\u001b[0mA\u001b[0m\u001b[0;34m)\u001b[0m\u001b[0;34m\u001b[0m\u001b[0;34m\u001b[0m\u001b[0m\n\u001b[0;32m----> 6\u001b[0;31m \u001b[0mA\u001b[0m\u001b[0;34m[\u001b[0m\u001b[0;36m0\u001b[0m\u001b[0;34m]\u001b[0m \u001b[0;34m=\u001b[0m \u001b[0;36m1\u001b[0m\u001b[0;34m\u001b[0m\u001b[0;34m\u001b[0m\u001b[0m\n\u001b[0m",
      "\u001b[0;31mValueError\u001b[0m: assignment destination is read-only"
     ]
    }
   ],
   "source": [
    "#43. Make an array immutable (read-only) \n",
    "\n",
    "A = np.random.randint(0,5,10)\n",
    "A.flags.writeable = False\n",
    "print(A)\n",
    "A[0] = 1"
   ]
  },
  {
   "cell_type": "code",
   "execution_count": 65,
   "metadata": {},
   "outputs": [
    {
     "name": "stdout",
     "output_type": "stream",
     "text": [
      "[0.88983585 0.8396151  0.88284243 0.85329819 0.68784294 0.81689104\n",
      " 0.51197347 0.60130021 0.462508   0.9393744 ]\n",
      "\n",
      "[1.28498901 0.53685854 1.4222169  0.85358869 1.40901328 0.72803716\n",
      " 0.36528707 0.39240404 0.22475455 0.73719542]\n"
     ]
    }
   ],
   "source": [
    "#44. Consider a random 10x2 matrix representing cartesian coordinates, convert them to polar coordinates\\\n",
    "D = np.random.random((10,2))\n",
    "\n",
    "x,y = D[:,0], D[:,1]\n",
    "\n",
    "r = np.sqrt(x**2+y**2)\n",
    "\n",
    "phi = np.arctan2(y,x)\n",
    "\n",
    "print(r)\n",
    "print()\n",
    "print(phi)"
   ]
  },
  {
   "cell_type": "code",
   "execution_count": 69,
   "metadata": {},
   "outputs": [
    {
     "name": "stdout",
     "output_type": "stream",
     "text": [
      "[0.85225204 0.48283132 0.50918418 0.23823909 0.6770697  0.02446185\n",
      " 0.88120057 0.50811586 0.33742997 0.39537385]\n",
      "[0.85225204 0.48283132 0.50918418 0.23823909 0.6770697  0.02446185\n",
      " 0.         0.50811586 0.33742997 0.39537385]\n"
     ]
    }
   ],
   "source": [
    "#45. Create random vector of size 10 and replace the maximum value by 0 \n",
    "v = np.random.random(10)\n",
    "print(v)\n",
    "\n",
    "v[v.argmax()] = 0\n",
    "print(v)"
   ]
  },
  {
   "cell_type": "code",
   "execution_count": 70,
   "metadata": {},
   "outputs": [
    {
     "name": "stdout",
     "output_type": "stream",
     "text": [
      "[[(0.  , 0.  ) (0.25, 0.  ) (0.5 , 0.  ) (0.75, 0.  ) (1.  , 0.  )]\n",
      " [(0.  , 0.25) (0.25, 0.25) (0.5 , 0.25) (0.75, 0.25) (1.  , 0.25)]\n",
      " [(0.  , 0.5 ) (0.25, 0.5 ) (0.5 , 0.5 ) (0.75, 0.5 ) (1.  , 0.5 )]\n",
      " [(0.  , 0.75) (0.25, 0.75) (0.5 , 0.75) (0.75, 0.75) (1.  , 0.75)]\n",
      " [(0.  , 1.  ) (0.25, 1.  ) (0.5 , 1.  ) (0.75, 1.  ) (1.  , 1.  )]]\n"
     ]
    }
   ],
   "source": [
    "#46. Create a structured array with x and y coordinates covering the [0,1]x[0,1] area\n",
    "A = np.zeros((5,5), [('X',float),('Y',float)])\n",
    "X = np.linspace(0,1,5)\n",
    "Y = np.linspace(0,1,5)\n",
    "A['X'], A['Y'] = np.meshgrid(X,Y)\n",
    "\n",
    "print(A)"
   ]
  },
  {
   "cell_type": "code",
   "execution_count": 76,
   "metadata": {},
   "outputs": [
    {
     "name": "stdout",
     "output_type": "stream",
     "text": [
      "[0.67279354 0.11401192 0.70455543 0.59052398 0.62578387 0.98225402\n",
      " 0.8449225  0.08577049 0.78525182 0.98863304]\n",
      "\n",
      "[0.1461394  0.5737147  0.27277317 0.94788624 0.66686578 0.95906102\n",
      " 0.00110777 0.01653793 0.08106802 0.94495607]\n",
      "\n",
      "56824.29931330357\n"
     ]
    }
   ],
   "source": [
    "#47. Given two arrays, X and Y, construct the Cauchy matrix C (Cij =1/(xi - yj))\n",
    "X = np.random.random(10)\n",
    "print(X)\n",
    "\n",
    "print()\n",
    "\n",
    "Y = np.random.random(10)\n",
    "print(Y)\n",
    "\n",
    "print()\n",
    "\n",
    "C = 1.0 / np.subtract.outer(X, Y)\n",
    "\n",
    "print(np.linalg.det(C))"
   ]
  },
  {
   "cell_type": "code",
   "execution_count": 81,
   "metadata": {},
   "outputs": [
    {
     "name": "stdout",
     "output_type": "stream",
     "text": [
      "-128\n",
      "127\n",
      "-2147483648\n",
      "2147483647\n",
      "-9223372036854775808\n",
      "9223372036854775807\n",
      "-3.4028235e+38\n",
      "3.4028235e+38\n",
      "1.1920929e-07\n",
      "-1.7976931348623157e+308\n",
      "1.7976931348623157e+308\n",
      "2.220446049250313e-16\n"
     ]
    }
   ],
   "source": [
    "#48. Print the minimum and maximum representable value for each numpy scalar type\n",
    "\n",
    "for dtype in [np.int8, np.int32, np.int64]:\n",
    "    print(np.iinfo(dtype).min)\n",
    "    print(np.iinfo(dtype).max)\n",
    "\n",
    "\n",
    "for dtype in [np.float32, np.float64]:\n",
    "    print(np.finfo(dtype).min)\n",
    "    print(np.finfo(dtype).max)\n",
    "    print(np.finfo(dtype).eps)"
   ]
  },
  {
   "cell_type": "code",
   "execution_count": 84,
   "metadata": {},
   "outputs": [
    {
     "name": "stdout",
     "output_type": "stream",
     "text": [
      "[0.34227453 0.28190605 0.19627134 0.5824777  0.64021444 0.70534957\n",
      " 0.19035432 0.18110646 0.04493389 0.45945144 0.90709353 0.95704457\n",
      " 0.92331969 0.06476996 0.81473366 0.64628681 0.18518473 0.38571778\n",
      " 0.64640265 0.10755483 0.18665834 0.67298985 0.02355814 0.49004294\n",
      " 0.29976883 0.09425414 0.46609602 0.16822659 0.77453933 0.48221753\n",
      " 0.05900434 0.95154861 0.75509576 0.83366526 0.13718336 0.90030565\n",
      " 0.67994308 0.11270854 0.4129007  0.06275988 0.2921606  0.90368449\n",
      " 0.45752206 0.07794166 0.95779097 0.33703908 0.03911848 0.20764326\n",
      " 0.91711033]\n"
     ]
    }
   ],
   "source": [
    "#49. How to print all the values of an array?\n",
    "X = np.random.random(49)\n",
    "print(X)"
   ]
  },
  {
   "cell_type": "code",
   "execution_count": 92,
   "metadata": {},
   "outputs": [
    {
     "name": "stdout",
     "output_type": "stream",
     "text": [
      "[ 0  1  2  3  4  5  6  7  8  9 10 11 12 13 14 15 16 17 18 19 20 21 22 23\n",
      " 24 25 26 27 28 29 30 31 32 33 34 35 36 37 38 39 40 41 42 43 44 45 46 47\n",
      " 48 49]\n",
      "37.01793674839624\n",
      "37\n"
     ]
    }
   ],
   "source": [
    "#50. How to find the closest value (to a given scalar) in a vector?\n",
    "X = np.arange(50)\n",
    "print(X)\n",
    "v = np.random.uniform(0,49)\n",
    "print(v)\n",
    "i = (np.abs(X-v)).argmin()\n",
    "\n",
    "print(X[i])"
   ]
  },
  {
   "cell_type": "code",
   "execution_count": null,
   "metadata": {},
   "outputs": [],
   "source": [
    "#51. Create a structured array representing a position (x,y) and a color (r,g,b)\n",
    "#-"
   ]
  },
  {
   "cell_type": "code",
   "execution_count": 170,
   "metadata": {},
   "outputs": [],
   "source": [
    "#52. Consider a random vector with shape (100,2) representing coordinates, find point by point distances\n",
    "#-"
   ]
  },
  {
   "cell_type": "code",
   "execution_count": 168,
   "metadata": {},
   "outputs": [
    {
     "name": "stdout",
     "output_type": "stream",
     "text": [
      "[ 0  1  2  3  4  5  6  7  8  9 10 11 12 13 14 15 16 17 18 19 20 21 22 23\n",
      " 24 25 26 27 28 29 30 31 32 33 34 35 36 37 38 39 40 41 42 43 44 45 46 47\n",
      " 48 49 50 51 52]\n",
      "\n",
      "[ 0.  1.  2.  3.  4.  5.  6.  7.  8.  9. 10. 11. 12. 13. 14. 15. 16. 17.\n",
      " 18. 19. 20. 21. 22. 23. 24. 25. 26. 27. 28. 29. 30. 31. 32. 33. 34. 35.\n",
      " 36. 37. 38. 39. 40. 41. 42. 43. 44. 45. 46. 47. 48. 49. 50. 51. 52.]\n"
     ]
    }
   ],
   "source": [
    "#53. How to convert a float (32 bits) array into an integer (32 bits) in place?\n",
    "M = np.arange(53, dtype=np.int32)\n",
    "print(M)\n",
    "print()\n",
    "M = M.astype(np.float32, copy=False)\n",
    "\n",
    "print(M)"
   ]
  },
  {
   "cell_type": "code",
   "execution_count": null,
   "metadata": {},
   "outputs": [],
   "source": [
    "#54. How to read the following file?\n",
    "#-"
   ]
  },
  {
   "cell_type": "code",
   "execution_count": null,
   "metadata": {},
   "outputs": [],
   "source": [
    "#55. What is the equivalent of enumerate for numpy arrays?\n",
    "#-"
   ]
  },
  {
   "cell_type": "code",
   "execution_count": 163,
   "metadata": {},
   "outputs": [
    {
     "name": "stdout",
     "output_type": "stream",
     "text": [
      "[[0.93773365 0.93269073 0.92835111 0.92510232 0.92334343 0.92334343\n",
      "  0.92510232 0.92835111 0.93269073 0.93773365]\n",
      " [0.93269073 0.92676784 0.92147724 0.91734615 0.91502608 0.91502608\n",
      "  0.91734615 0.92147724 0.92676784 0.93269073]\n",
      " [0.92835111 0.92147724 0.91502608 0.90964161 0.90639775 0.90639775\n",
      "  0.90964161 0.91502608 0.92147724 0.92835111]\n",
      " [0.92510232 0.91734615 0.90964161 0.90254125 0.89758355 0.89758355\n",
      "  0.90254125 0.90964161 0.91734615 0.92510232]\n",
      " [0.92334343 0.91502608 0.90639775 0.89758355 0.88934796 0.88934796\n",
      "  0.89758355 0.90639775 0.91502608 0.92334343]\n",
      " [0.92334343 0.91502608 0.90639775 0.89758355 0.88934796 0.88934796\n",
      "  0.89758355 0.90639775 0.91502608 0.92334343]\n",
      " [0.92510232 0.91734615 0.90964161 0.90254125 0.89758355 0.89758355\n",
      "  0.90254125 0.90964161 0.91734615 0.92510232]\n",
      " [0.92835111 0.92147724 0.91502608 0.90964161 0.90639775 0.90639775\n",
      "  0.90964161 0.91502608 0.92147724 0.92835111]\n",
      " [0.93269073 0.92676784 0.92147724 0.91734615 0.91502608 0.91502608\n",
      "  0.91734615 0.92147724 0.92676784 0.93269073]\n",
      " [0.93773365 0.93269073 0.92835111 0.92510232 0.92334343 0.92334343\n",
      "  0.92510232 0.92835111 0.93269073 0.93773365]]\n"
     ]
    }
   ],
   "source": [
    "#56. Generate a generic 2D Gaussian-like array\n",
    "x,y = np.meshgrid(np.linspace(-1,1,10), np.linspace(-1,1,10))\n",
    "\n",
    "D = np.sqrt(x**2+y**2)\n",
    "\n",
    "mu = 5\n",
    "s = 10\n",
    "\n",
    "Gaussian = np.exp(- ( (D-mu)**2 / ( 2 * s**2 ) ) )\n",
    "print(Gaussian)\n",
    "\n"
   ]
  },
  {
   "cell_type": "code",
   "execution_count": 159,
   "metadata": {},
   "outputs": [
    {
     "name": "stdout",
     "output_type": "stream",
     "text": [
      "[[ 0.  0.  0.  0.  0.  0.  0.  0.  0.  0.]\n",
      " [ 0.  0.  0.  0.  0.  0.  0.  0.  0.  0.]\n",
      " [ 0.  0. 57.  0.  0.  0.  0. 57.  0.  0.]\n",
      " [ 0.  0.  0.  0.  0.  0. 57.  0.  0.  0.]\n",
      " [ 0.  0.  0.  0.  0.  0.  0.  0.  0.  0.]\n",
      " [57.  0.  0. 57.  0.  0.  0.  0. 57.  0.]\n",
      " [ 0.  0.  0.  0.  0. 57.  0.  0.  0.  0.]\n",
      " [ 0. 57.  0.  0.  0. 57.  0.  0.  0. 57.]\n",
      " [ 0.  0.  0.  0.  0.  0.  0.  0.  0.  0.]\n",
      " [ 0.  0.  0.  0.  0.  0.  0.  0.  0.  0.]]\n"
     ]
    }
   ],
   "source": [
    "#57. How to randomly place p elements in a 2D array?\n",
    "\n",
    "M = np.zeros((10,10))\n",
    "p = 10\n",
    "np.put(M, np.random.choice(range(10*10), p),57)\n",
    "\n",
    "print(M)"
   ]
  },
  {
   "cell_type": "code",
   "execution_count": 154,
   "metadata": {},
   "outputs": [],
   "source": [
    "#58. Subtract the mean of each row of a matrix\n",
    "#-"
   ]
  },
  {
   "cell_type": "code",
   "execution_count": 151,
   "metadata": {},
   "outputs": [
    {
     "name": "stdout",
     "output_type": "stream",
     "text": [
      "[[25 40 52 92 26 53 53 97 97 34]\n",
      " [63 23  4 23 27 76 75  2 31 89]\n",
      " [26  7 34 97 48 82 49 74 35 80]\n",
      " [11 19 67 83 81 77 30 37 73 40]\n",
      " [99 82 18 64 76 18 87 64 54 66]\n",
      " [18 26 16  3 25 43 79 28 48 24]\n",
      " [30 71 78 45 40 21 24 40 10 49]\n",
      " [50 79 85 22 70 71 96 28 83 76]\n",
      " [79 54 50 81 64  1 31 16 26  2]\n",
      " [ 5 37 22 77 15 27 17 15 28 95]]\n",
      "\n",
      "[[79 54 50 81 64  1 31 16 26  2]\n",
      " [99 82 18 64 76 18 87 64 54 66]\n",
      " [30 71 78 45 40 21 24 40 10 49]\n",
      " [ 5 37 22 77 15 27 17 15 28 95]\n",
      " [18 26 16  3 25 43 79 28 48 24]\n",
      " [25 40 52 92 26 53 53 97 97 34]\n",
      " [50 79 85 22 70 71 96 28 83 76]\n",
      " [63 23  4 23 27 76 75  2 31 89]\n",
      " [11 19 67 83 81 77 30 37 73 40]\n",
      " [26  7 34 97 48 82 49 74 35 80]]\n"
     ]
    }
   ],
   "source": [
    "#59. How to sort an array by the nth column? \n",
    "M = np.random.randint(0,100,(10,10))\n",
    "\n",
    "print(M)\n",
    "print()\n",
    "k=5\n",
    "print(M[M[:,k].argsort()])"
   ]
  },
  {
   "cell_type": "code",
   "execution_count": 146,
   "metadata": {
    "scrolled": false
   },
   "outputs": [
    {
     "name": "stdout",
     "output_type": "stream",
     "text": [
      "[[1 0 3 2 3 3 2 2 0 2 3 0 2 3 1 2 3 0 2 0 3 2 1 1 2 1 2 2 0 2]\n",
      " [2 1 2 2 1 2 1 2 1 3 2 0 1 3 3 1 2 1 2 0 1 1 0 1 0 3 1 1 1 3]]\n",
      "True\n"
     ]
    }
   ],
   "source": [
    "#60. How to tell if a given 2D array has null columns?\n",
    "M = np.random.randint(0,4,(2,30))\n",
    "print(M)\n",
    "print((~M.any(axis=0)).any())"
   ]
  },
  {
   "cell_type": "code",
   "execution_count": 134,
   "metadata": {
    "scrolled": true
   },
   "outputs": [
    {
     "name": "stdout",
     "output_type": "stream",
     "text": [
      "[[0 1 1 1 1 2 1 2 1 1]\n",
      " [1 2 2 2 0 1 2 1 2 1]\n",
      " [2 1 0 1 0 0 2 1 0 0]]\n",
      "65\n"
     ]
    }
   ],
   "source": [
    "#61. Find the nearest value from a given value in an array\n",
    "M = np.random.randint(0, 100, (5, 5))\n",
    "print(Z)\n",
    "\n",
    "m = 61.2\n",
    "\n",
    "x = M.flat[np.abs(M - z).argmin()]\n",
    "\n",
    "print(x)\n",
    "\n"
   ]
  },
  {
   "cell_type": "code",
   "execution_count": 131,
   "metadata": {},
   "outputs": [],
   "source": [
    "#62. Considering two arrays with shape (1,3) and (3,1), how to compute their sum using an iterator? \n",
    "# -"
   ]
  },
  {
   "cell_type": "code",
   "execution_count": 120,
   "metadata": {},
   "outputs": [
    {
     "ename": "SyntaxError",
     "evalue": "invalid syntax (<ipython-input-120-185ad5095d1d>, line 2)",
     "output_type": "error",
     "traceback": [
      "\u001b[0;36m  File \u001b[0;32m\"<ipython-input-120-185ad5095d1d>\"\u001b[0;36m, line \u001b[0;32m2\u001b[0m\n\u001b[0;31m    -\u001b[0m\n\u001b[0m     ^\u001b[0m\n\u001b[0;31mSyntaxError\u001b[0m\u001b[0;31m:\u001b[0m invalid syntax\n"
     ]
    }
   ],
   "source": [
    "#63. Create an array class that has a name attribute\n",
    "# -"
   ]
  },
  {
   "cell_type": "code",
   "execution_count": 209,
   "metadata": {},
   "outputs": [
    {
     "name": "stdout",
     "output_type": "stream",
     "text": [
      "[1, 0, 0, 0, 2, 0, 0, 0, 3, 0, 0, 0, 4, 0, 0, 0, 5]\n"
     ]
    }
   ],
   "source": [
    "#70. Consider the vector [1, 2, 3, 4, 5], how to build a new vector with 3 consecutive zeros interleaved between each value? (★★★)\n",
    "x = [1,2,3,4,5]\n",
    "v = [1,0,0,0,2,0,0,0,3,0,0,0,4,0,0,0,5]\n",
    "\n",
    "\n",
    "print(v)"
   ]
  },
  {
   "cell_type": "code",
   "execution_count": 115,
   "metadata": {},
   "outputs": [
    {
     "name": "stdout",
     "output_type": "stream",
     "text": [
      "[[[10. 10. 10.]\n",
      "  [10. 10. 10.]\n",
      "  [10. 10. 10.]\n",
      "  [10. 10. 10.]\n",
      "  [10. 10. 10.]]\n",
      "\n",
      " [[10. 10. 10.]\n",
      "  [10. 10. 10.]\n",
      "  [10. 10. 10.]\n",
      "  [10. 10. 10.]\n",
      "  [10. 10. 10.]]\n",
      "\n",
      " [[10. 10. 10.]\n",
      "  [10. 10. 10.]\n",
      "  [10. 10. 10.]\n",
      "  [10. 10. 10.]\n",
      "  [10. 10. 10.]]\n",
      "\n",
      " [[10. 10. 10.]\n",
      "  [10. 10. 10.]\n",
      "  [10. 10. 10.]\n",
      "  [10. 10. 10.]\n",
      "  [10. 10. 10.]]\n",
      "\n",
      " [[10. 10. 10.]\n",
      "  [10. 10. 10.]\n",
      "  [10. 10. 10.]\n",
      "  [10. 10. 10.]\n",
      "  [10. 10. 10.]]]\n"
     ]
    }
   ],
   "source": [
    "#71. Consider an array of dimension (5,5,3), how to mulitply it by an array with dimensions (5,5)? (★★★)\n",
    "\n",
    "B = 5*np.ones((5,5))\n",
    "\n",
    "print(A * B[:,:,None])"
   ]
  },
  {
   "cell_type": "code",
   "execution_count": 104,
   "metadata": {},
   "outputs": [
    {
     "name": "stdout",
     "output_type": "stream",
     "text": [
      "[[10 76  0 80 47 57 15 73 14  4]\n",
      " [11 54 15 86 36 45 71 32 44 12]\n",
      " [84 48 95 93 27 70 35 97 35 81]\n",
      " [ 6 88  3 37 54 64 20 98 50 74]\n",
      " [ 4 93 71 49 78 68 60  7 63 56]\n",
      " [81 56 89 90 40 74 70 71 95  1]\n",
      " [41 11  7 20 38  6 11 55 35 64]\n",
      " [ 8 29 59  6 44 11 65 64 75 29]\n",
      " [12 74 31 18 65 49 42 19 44 14]\n",
      " [55 65 16 44 11 19 19 52 58  2]]\n",
      "\n",
      "[[11 54 15 86 36 45 71 32 44 12]\n",
      " [10 76  0 80 47 57 15 73 14  4]\n",
      " [84 48 95 93 27 70 35 97 35 81]\n",
      " [ 6 88  3 37 54 64 20 98 50 74]\n",
      " [ 4 93 71 49 78 68 60  7 63 56]\n",
      " [81 56 89 90 40 74 70 71 95  1]\n",
      " [41 11  7 20 38  6 11 55 35 64]\n",
      " [ 8 29 59  6 44 11 65 64 75 29]\n",
      " [12 74 31 18 65 49 42 19 44 14]\n",
      " [55 65 16 44 11 19 19 52 58  2]]\n"
     ]
    }
   ],
   "source": [
    "#72. How to swap two rows of an array? (★★★)\n",
    "\n",
    "M = np.random.randint(0, 100, (10, 10))\n",
    "print(M)\n",
    "print()\n",
    "M[[0,1]] = M[[1,0]]\n",
    "\n",
    "print(M)"
   ]
  },
  {
   "cell_type": "code",
   "execution_count": 119,
   "metadata": {},
   "outputs": [
    {
     "name": "stdout",
     "output_type": "stream",
     "text": [
      "[1 2 3 4]\n",
      "\n",
      "[0 1 1 2 2 2 3 3 3 3]\n",
      "[1 2 3 4]\n"
     ]
    }
   ],
   "source": [
    "#74. Given an array C that is a bincount, how to produce an array A such that np.bincount(A) == C? (★★★)\n",
    "x = [0, 1, 1, 2, 2, 2, 3, 3, 3, 3]\n",
    "C = np.bincount(x)\n",
    "print(C)\n",
    "print()\n",
    "A = np.repeat(np.arange(len(C)), C)\n",
    "\n",
    "print(A)\n",
    "print(np.bincount(A))"
   ]
  },
  {
   "cell_type": "code",
   "execution_count": 205,
   "metadata": {},
   "outputs": [
    {
     "name": "stdout",
     "output_type": "stream",
     "text": [
      "[[1 1 1 1 0 1 0 0 0 0]\n",
      " [1 0 1 1 1 1 0 0 0 1]\n",
      " [1 0 0 0 1 0 1 1 1 1]\n",
      " [1 0 0 1 0 1 0 0 1 0]\n",
      " [0 1 1 0 0 0 1 0 1 0]\n",
      " [0 0 1 0 1 1 1 1 1 1]\n",
      " [1 0 1 0 0 1 1 0 0 1]\n",
      " [0 1 0 0 0 1 0 0 1 1]\n",
      " [0 1 1 0 0 1 1 1 0 1]\n",
      " [0 0 1 0 0 0 1 1 0 1]]\n",
      "10\n",
      "10\n"
     ]
    }
   ],
   "source": [
    "#82. Compute a matrix rank(★★★)\n",
    "\n",
    "M = np.random.randint(0, 2, (10, 10))\n",
    "print(M)\n",
    "print(np.linalg.matrix_rank(M))\n",
    "\n",
    "U, S, V = np.linalg.svd(M) \n",
    "r = np.sum(S > 1e-820)\n",
    "\n",
    "print(r)\n"
   ]
  },
  {
   "cell_type": "code",
   "execution_count": 207,
   "metadata": {},
   "outputs": [
    {
     "name": "stdout",
     "output_type": "stream",
     "text": [
      "[19 43 43 70  5 28 44  7 43 13 25 24 79 46 13 75 20 56 12 16 39 74 49 15\n",
      " 55 54  9 44 16 18 82  6 16 37 78 34 60 58 25 32 58 33 41 39 23 49 35 78\n",
      " 44 22 72 28  1 69 20 75 44 67 75 39 15  5 77 60 73 82 59 30 73 62 15 49\n",
      "  1 65  4 40 44 32 17 30 35 51 11]\n",
      "44\n"
     ]
    }
   ],
   "source": [
    "#83. How to find the most frequent value in an array?(★★★)\n",
    "M = np.random.randint(0,83,83)\n",
    "print(M)\n",
    "\n",
    "print(np.bincount(M).argmax())"
   ]
  },
  {
   "cell_type": "code",
   "execution_count": null,
   "metadata": {},
   "outputs": [],
   "source": []
  },
  {
   "cell_type": "code",
   "execution_count": null,
   "metadata": {},
   "outputs": [],
   "source": []
  },
  {
   "cell_type": "code",
   "execution_count": null,
   "metadata": {},
   "outputs": [],
   "source": []
  }
 ],
 "metadata": {
  "kernelspec": {
   "display_name": "Python 3",
   "language": "python",
   "name": "python3"
  },
  "language_info": {
   "codemirror_mode": {
    "name": "ipython",
    "version": 3
   },
   "file_extension": ".py",
   "mimetype": "text/x-python",
   "name": "python",
   "nbconvert_exporter": "python",
   "pygments_lexer": "ipython3",
   "version": "3.8.3"
  }
 },
 "nbformat": 4,
 "nbformat_minor": 4
}
